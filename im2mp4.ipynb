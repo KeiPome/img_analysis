{
  "nbformat": 4,
  "nbformat_minor": 0,
  "metadata": {
    "colab": {
      "provenance": [],
      "authorship_tag": "ABX9TyMTMQHMw55UnIrIE5nBZuV+",
      "include_colab_link": true
    },
    "kernelspec": {
      "name": "python3",
      "display_name": "Python 3"
    },
    "language_info": {
      "name": "python"
    }
  },
  "cells": [
    {
      "cell_type": "markdown",
      "metadata": {
        "id": "view-in-github",
        "colab_type": "text"
      },
      "source": [
        "<a href=\"https://colab.research.google.com/github/KeiPome/img_analysis/blob/main/im2mp4.ipynb\" target=\"_parent\"><img src=\"https://colab.research.google.com/assets/colab-badge.svg\" alt=\"Open In Colab\"/></a>"
      ]
    },
    {
      "cell_type": "markdown",
      "source": [
        "#使用上の注意\n",
        "- 画像までのパスには必ず半角英数のみを使用すること\n",
        "- 画像は必ずgoogledriveにアップすること"
      ],
      "metadata": {
        "id": "DHIQXMqAcrIR"
      }
    },
    {
      "cell_type": "code",
      "execution_count": 1,
      "metadata": {
        "colab": {
          "base_uri": "https://localhost:8080/"
        },
        "id": "l5-0K-0iXU0D",
        "outputId": "7b207888-1cc6-49e8-b997-485c730552b2"
      },
      "outputs": [
        {
          "output_type": "stream",
          "name": "stdout",
          "text": [
            "Drive already mounted at /content/drive; to attempt to forcibly remount, call drive.mount(\"/content/drive\", force_remount=True).\n"
          ]
        }
      ],
      "source": [
        "from google.colab import drive\n",
        "drive.mount('/content/drive')"
      ]
    },
    {
      "cell_type": "code",
      "source": [
        "!git clone https://github.com/KeiPome/img_analysis.git\n",
        "# 現在は不要\n",
        "# !pip install -r img_analysis/requirements.txt\n",
        "\n",
        "!pip install opencv-python\n",
        "from google.colab.patches import cv2_imshow\n",
        "import cv2\n",
        "import glob\n",
        "import subprocess\n",
        "import os"
      ],
      "metadata": {
        "colab": {
          "base_uri": "https://localhost:8080/"
        },
        "id": "QQ-QG_TXXdDg",
        "outputId": "d1910a84-fd35-4941-e628-0811446161fd"
      },
      "execution_count": 3,
      "outputs": [
        {
          "output_type": "stream",
          "name": "stdout",
          "text": [
            "fatal: destination path 'img_analysis' already exists and is not an empty directory.\n",
            "Requirement already satisfied: opencv-python in /usr/local/lib/python3.10/dist-packages (4.8.0.76)\n",
            "Requirement already satisfied: numpy>=1.21.2 in /usr/local/lib/python3.10/dist-packages (from opencv-python) (1.25.2)\n"
          ]
        }
      ]
    },
    {
      "cell_type": "markdown",
      "source": [
        "例1\n",
        "```\n",
        "!python im2mp4.py /path/to/images /path/to/output --fps 50 --segment_duration 5 --start_frame 0 --end_frame 1000\n",
        "```\n",
        "例2\n",
        "```\n",
        "subprocess.run([\n",
        "                \"python\",\"im2mp4.py\",\n",
        "                ,\"/path/to/images\",\n",
        "                \"/path/to/output\",\n",
        "                \"--fps\", \"50\",# default = 50\n",
        "                \"--segment_duration\",# default = 5\n",
        "                \"--start_frame\", \"24000\",# default = 0\n",
        "                \"--end_frame\", \"59999\"# default = None\n",
        "                ])\n",
        "```"
      ],
      "metadata": {
        "id": "CPVzAYmaaRey"
      }
    },
    {
      "cell_type": "code",
      "source": [],
      "metadata": {
        "id": "aNC7nujGaImH"
      },
      "execution_count": null,
      "outputs": []
    }
  ]
}
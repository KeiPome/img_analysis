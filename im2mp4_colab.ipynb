{
  "nbformat": 4,
  "nbformat_minor": 0,
  "metadata": {
    "colab": {
      "provenance": [],
      "machine_shape": "hm"
    },
    "kernelspec": {
      "name": "python3",
      "display_name": "Python 3"
    },
    "language_info": {
      "name": "python"
    }
  },
  "cells": [
    {
      "cell_type": "code",
      "execution_count": 20,
      "metadata": {
        "colab": {
          "base_uri": "https://localhost:8080/"
        },
        "id": "ccgMfofD7CNO",
        "outputId": "46d086ac-fc6a-4193-f522-3d830b9beaa2"
      },
      "outputs": [
        {
          "output_type": "stream",
          "name": "stdout",
          "text": [
            "Drive already mounted at /content/drive; to attempt to forcibly remount, call drive.mount(\"/content/drive\", force_remount=True).\n",
            "Requirement already satisfied: opencv-python in /usr/local/lib/python3.10/dist-packages (4.8.0.76)\n",
            "Requirement already satisfied: numpy>=1.21.2 in /usr/local/lib/python3.10/dist-packages (from opencv-python) (1.25.2)\n"
          ]
        }
      ],
      "source": [
        "from google.colab import drive\n",
        "drive.mount('/content/drive')\n",
        "from google.colab.patches import cv2_imshow\n",
        "!pip install opencv-python\n",
        "import cv2\n",
        "import glob\n",
        "import subprocess\n",
        "import os"
      ]
    },
    {
      "cell_type": "code",
      "source": [
        "#os.makedirs(\"/content/drive/MyDrive/a_TDL/pjt-TDL/pjt_Collective-Behaviour/py/output/231226-3chmber_negishi/aldocaBoTx_fish2-female\")"
      ],
      "metadata": {
        "id": "1l_tQjRaDKHZ"
      },
      "execution_count": 21,
      "outputs": []
    },
    {
      "cell_type": "code",
      "source": [
        "img = \"/content/drive/MyDrive/a_TDL/Collective/rawdata/video_jpg/231226-3chmber_negishi/aldocaBoTx_fish2-female/\""
      ],
      "metadata": {
        "id": "qv9y8Qee7STH"
      },
      "execution_count": 22,
      "outputs": []
    },
    {
      "cell_type": "code",
      "source": [
        "36000/(50*60)"
      ],
      "metadata": {
        "colab": {
          "base_uri": "https://localhost:8080/"
        },
        "id": "HmvhsYt7TyYH",
        "outputId": "7b95fb5f-0c65-4eab-8d20-834c25b66dad"
      },
      "execution_count": 23,
      "outputs": [
        {
          "output_type": "execute_result",
          "data": {
            "text/plain": [
              "12.0"
            ]
          },
          "metadata": {},
          "execution_count": 23
        }
      ]
    },
    {
      "cell_type": "markdown",
      "source": [
        "例1\n",
        "```\n",
        "!python im2mp4.py /path/to/images /path/to/output --fps 30 --segment_duration 10 --start_frame 100 --end_frame 1000\n",
        "```\n",
        "例2\n",
        "```\n",
        "subprocess.run([\n",
        "                \"python\",\"im2mp4.py\",\n",
        "                ,\"/path/to/images\",\n",
        "                \"/path/to/output\",\n",
        "                \"--fps\", \"50\",\n",
        "                \"--segment_duration\", 50\n",
        "                \"--start_frame\", \"24000\",\n",
        "                \"--end_frame\", \"59999\"\n",
        "                ])\n",
        "```"
      ],
      "metadata": {
        "id": "5lIaxLRE-jtZ"
      }
    },
    {
      "cell_type": "code",
      "source": [
        "%cd /content/drive/MyDrive/a_TDL/pjt-TDL/pjt_Collective-Behaviour/py"
      ],
      "metadata": {
        "colab": {
          "base_uri": "https://localhost:8080/"
        },
        "id": "i6_bdt-d-hha",
        "outputId": "aa915243-9a8d-426c-c375-52f0f42f6379"
      },
      "execution_count": 24,
      "outputs": [
        {
          "output_type": "stream",
          "name": "stdout",
          "text": [
            "/content/drive/MyDrive/a_TDL/pjt-TDL/pjt_Collective-Behaviour/py\n"
          ]
        }
      ]
    },
    {
      "cell_type": "code",
      "source": [
        "subprocess.run([\n",
        "    \"python\",\"im2mp4.py\",\n",
        "    \"/content/drive/MyDrive/a_TDL/Collective/rawdata/video_jpg/231226-3chmber_negishi/aldocaBoTx_fish2-female\",\n",
        "    \"/content/drive/MyDrive/a_TDL/pjt-TDL/pjt_Collective-Behaviour/py/output/231226-3chmber_negishi/aldocaBoTx_fish2-female\",\n",
        "    \"--fps\", \"50\",\n",
        "    \"--segment_duration\", \"12\",\n",
        "    \"--start_frame\", \"24000\",\n",
        "    \"--end_frame\", \"59999\"\n",
        "])"
      ],
      "metadata": {
        "id": "T2qMHQOPB8Wk"
      },
      "execution_count": null,
      "outputs": []
    },
    {
      "cell_type": "code",
      "source": [],
      "metadata": {
        "id": "mzBMsotkCTSg"
      },
      "execution_count": null,
      "outputs": []
    },
    {
      "cell_type": "code",
      "source": [],
      "metadata": {
        "id": "VgPx9rbpDiTG"
      },
      "execution_count": null,
      "outputs": []
    }
  ]
}